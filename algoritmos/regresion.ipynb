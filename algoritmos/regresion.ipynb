{
 "cells": [
  {
   "cell_type": "code",
   "execution_count": null,
   "id": "1476902e",
   "metadata": {},
   "outputs": [],
   "source": [
    "import pandas as pd\n",
    "from sklearn.pipeline import Pipeline\n",
    "from sklearn.compose import ColumnTransformer\n",
    "from sklearn.preprocessing import OrdinalEncoder, OneHotEncoder, StandardScaler\n",
    "\n",
    "from sklearn.linear_model import LogisticRegression\n",
    "from sklearn.tree import DecisionTreeClassifier, plot_tree\n",
    "from sklearn.metrics import classification_report"
   ]
  },
  {
   "cell_type": "code",
   "execution_count": null,
   "id": "417970a9",
   "metadata": {},
   "outputs": [],
   "source": [
    "from sklearn.metrics import accuracy_score, precision_score, recall_score, f1_score"
   ]
  },
  {
   "cell_type": "code",
   "execution_count": null,
   "id": "03f36b0c",
   "metadata": {},
   "outputs": [],
   "source": [
    "dataframe_study = pd.read_csv(\"../datasets/final_df.csv\")"
   ]
  },
  {
   "cell_type": "code",
   "execution_count": null,
   "id": "ffcbee07",
   "metadata": {},
   "outputs": [],
   "source": [
    "dataframe_study.head()"
   ]
  },
  {
   "cell_type": "code",
   "execution_count": null,
   "id": "89d16abe",
   "metadata": {},
   "outputs": [],
   "source": [
    "dataframe_study.drop(columns=[\"Unnamed: 0\",\"Unnamed: 0_x\"],inplace=True)"
   ]
  },
  {
   "cell_type": "code",
   "execution_count": null,
   "id": "73452c75",
   "metadata": {},
   "outputs": [],
   "source": [
    "dataframe_study.columns"
   ]
  },
  {
   "cell_type": "code",
   "execution_count": null,
   "id": "4aece0c2",
   "metadata": {},
   "outputs": [],
   "source": [
    "dataframe_study.drop(columns=[\"season_x\",'Gls90', 'Ast90', 'G+A90', 'G-PK90', 'G+A-PK90', 'xG90',\n",
    "       'xAG90', 'xG+xAG90', 'npxG90', 'npxG+xAG90', '_merge', 'Unnamed: 0_y','short_name', 'long_name',\n",
    "       \"matched_short_name\"],inplace=True)"
   ]
  },
  {
   "cell_type": "code",
   "execution_count": null,
   "id": "1cf5db0d",
   "metadata": {},
   "outputs": [],
   "source": [
    "dataframe = dataframe_study.drop(columns=[\"from\",\"until\",\"missed_matches\"])"
   ]
  },
  {
   "cell_type": "code",
   "execution_count": null,
   "id": "3e17f10f",
   "metadata": {},
   "outputs": [],
   "source": [
    "dataframe[\"target\"] = dataframe[\"days_out\"].str.extract(r\"(\\d+)\").astype(int)\n",
    "dataframe.drop(columns =[\"days_out\"] , inplace = True)"
   ]
  },
  {
   "cell_type": "code",
   "execution_count": null,
   "id": "a6b7933a",
   "metadata": {},
   "outputs": [],
   "source": [
    "df_clean = dataframe.dropna()"
   ]
  },
  {
   "cell_type": "code",
   "execution_count": null,
   "id": "ba5f804a",
   "metadata": {},
   "outputs": [],
   "source": [
    "df_clean.describe()"
   ]
  },
  {
   "cell_type": "code",
   "execution_count": null,
   "id": "252538dc",
   "metadata": {},
   "outputs": [],
   "source": [
    "df_clean[\"target\"].value_counts()"
   ]
  },
  {
   "cell_type": "code",
   "execution_count": null,
   "id": "7ac17f61",
   "metadata": {},
   "outputs": [],
   "source": [
    "freqs = df_clean [\"injury\"].value_counts()\n",
    "valid_cats = freqs[freqs > 5].index\n",
    "df_filtrado = df_clean[df_clean[\"injury\"].isin(valid_cats)]"
   ]
  },
  {
   "cell_type": "code",
   "execution_count": null,
   "id": "105a6b70",
   "metadata": {},
   "outputs": [],
   "source": [
    "import seaborn as sns\n",
    "import matplotlib.pyplot as plt"
   ]
  },
  {
   "cell_type": "code",
   "execution_count": null,
   "id": "4ef6c5a5",
   "metadata": {},
   "outputs": [],
   "source": [
    "plt.figure(figsize=(12, 8))\n",
    "sns.histplot(df_filtrado[\"target\"], kde=True, color=\"skyblue\", bins=20)\n",
    "plt.title(f\"Histograma de target\", fontsize=12)\n",
    "plt.xlabel(\"target\")\n",
    "plt.ylabel(\"Frecuencia\")"
   ]
  },
  {
   "cell_type": "code",
   "execution_count": null,
   "id": "aab11ddc",
   "metadata": {},
   "outputs": [],
   "source": [
    "num_cols = df_filtrado.select_dtypes(include=[\"int64\", \"float64\"]).columns.tolist()\n",
    "cat_cols = df_filtrado.select_dtypes(include=[\"object\", \"bool\", \"category\"]).columns.tolist()"
   ]
  },
  {
   "cell_type": "code",
   "execution_count": null,
   "id": "40753637",
   "metadata": {},
   "outputs": [],
   "source": [
    "import seaborn as sns\n",
    "import matplotlib.pyplot as plt\n",
    "\n",
    "\n",
    "n = len(num_cols)\n",
    "ncols = 6  \n",
    "nrows = (n // ncols) + 1\n",
    "\n",
    "plt.figure(figsize=(30, 5*nrows))\n",
    "\n",
    "for i, col in enumerate(num_cols, 1):\n",
    "    plt.subplot(nrows, ncols, i)\n",
    "    sns.histplot(df_clean[col], kde=True, color=\"skyblue\", bins=20)\n",
    "    plt.title(f\"Histograma de {col}\", fontsize=12)\n",
    "    plt.xlabel(col)\n",
    "    plt.ylabel(\"Frecuencia\")\n",
    "\n",
    "plt.tight_layout()\n",
    "plt.show()\n"
   ]
  },
  {
   "cell_type": "code",
   "execution_count": null,
   "id": "6680c708",
   "metadata": {},
   "outputs": [],
   "source": [
    "right_skew_columns = ['Gls', 'Ast', 'G+A', 'G-PK', 'PK',\n",
    "'PKatt', 'CrdY', 'CrdR', 'xG', 'npxG', 'xAG', 'npxG+xAG', 'PrgC',\n",
    "'PrgP', 'PrgR']\n",
    "standard_columns = ['age','born', 'MP', 'Starts', 'Min', '90s','height_cm', 'weight_kg','pace', 'shooting', 'passing', 'dribbling',\n",
    "       'defending', 'physic', 'movement_acceleration', 'movement_sprint_speed',\n",
    "       'movement_reactions', 'movement_balance', 'power_stamina',\n",
    "       'power_strength']"
   ]
  },
  {
   "cell_type": "code",
   "execution_count": null,
   "id": "80db6fa5",
   "metadata": {},
   "outputs": [],
   "source": [
    "import numpy as np"
   ]
  },
  {
   "cell_type": "code",
   "execution_count": null,
   "id": "82022e1f",
   "metadata": {},
   "outputs": [],
   "source": [
    "df_clean[right_skew_columns] = np.log1p(df_clean[right_skew_columns])\n",
    "\n",
    "scaler = StandardScaler()\n",
    "df_clean[standard_columns+right_skew_columns] = scaler.fit_transform(df_clean[standard_columns+right_skew_columns])"
   ]
  },
  {
   "cell_type": "code",
   "execution_count": null,
   "id": "424f7706",
   "metadata": {},
   "outputs": [],
   "source": [
    "import seaborn as sns\n",
    "import matplotlib.pyplot as plt\n",
    "\n",
    "n = len(num_cols)\n",
    "ncols = 6  \n",
    "nrows = (n // ncols) + 1\n",
    "\n",
    "plt.figure(figsize=(30, 5*nrows))\n",
    "\n",
    "for i, col in enumerate(num_cols, 1):\n",
    "    plt.subplot(nrows, ncols, i)\n",
    "    sns.histplot(df_clean[col], kde=True, color=\"skyblue\", bins=20)\n",
    "    plt.title(f\"Histograma de {col}\", fontsize=12)\n",
    "    plt.xlabel(col)\n",
    "    plt.ylabel(\"Frecuencia\")\n",
    "\n",
    "plt.tight_layout()\n",
    "plt.show()\n"
   ]
  },
  {
   "cell_type": "code",
   "execution_count": null,
   "id": "8457e5d2",
   "metadata": {},
   "outputs": [],
   "source": [
    "df_clean.drop(columns=['last_season','season_y'],inplace=True)"
   ]
  },
  {
   "cell_type": "code",
   "execution_count": null,
   "id": "63bbaf42",
   "metadata": {},
   "outputs": [],
   "source": [
    "df_clean.drop(columns=['player_positions'],inplace=True)"
   ]
  },
  {
   "cell_type": "code",
   "execution_count": null,
   "id": "9cf9834a",
   "metadata": {},
   "outputs": [],
   "source": [
    "cat_cols = df_clean.select_dtypes(include=[\"object\", \"bool\", \"category\"]).columns.tolist()\n",
    "cat_cols"
   ]
  },
  {
   "cell_type": "code",
   "execution_count": null,
   "id": "b0751cee",
   "metadata": {},
   "outputs": [],
   "source": [
    "ordinal_vars = ['player', 'season', 'nation','injury']\n",
    "onehot_vars = ['pos', 'work_rate', 'body_type']\n",
    "target = 'target' "
   ]
  },
  {
   "cell_type": "code",
   "execution_count": null,
   "id": "c17f3e97",
   "metadata": {},
   "outputs": [],
   "source": [
    "df_test = df_clean[df_clean['season'] == '24/25']\n",
    "df_train = df_clean[df_clean['season'] != '24/25']"
   ]
  },
  {
   "cell_type": "code",
   "execution_count": null,
   "id": "c06d43fc",
   "metadata": {},
   "outputs": [],
   "source": [
    "X_train = df_train.drop(columns=target)\n",
    "y_train = df_train[target]\n",
    "\n",
    "X_test = df_test.drop(columns=target)\n",
    "y_test = df_test[target]"
   ]
  },
  {
   "cell_type": "code",
   "execution_count": null,
   "id": "f2e5ed30",
   "metadata": {},
   "outputs": [],
   "source": [
    "preprocessor = ColumnTransformer(\n",
    "    transformers=[\n",
    "        ('ord', OrdinalEncoder(handle_unknown='use_encoded_value', unknown_value=-1), ordinal_vars),\n",
    "        ('ohe', OneHotEncoder(handle_unknown='ignore'), onehot_vars)\n",
    "    ]\n",
    ")"
   ]
  },
  {
   "cell_type": "code",
   "execution_count": null,
   "id": "fe92371d",
   "metadata": {},
   "outputs": [],
   "source": [
    "X_train_p = preprocessor.fit_transform(X_train,y_train)"
   ]
  },
  {
   "cell_type": "code",
   "execution_count": null,
   "id": "9e20f013",
   "metadata": {},
   "outputs": [],
   "source": [
    "X_test_p = preprocessor.fit_transform(X_test,y_test)"
   ]
  },
  {
   "cell_type": "code",
   "execution_count": null,
   "id": "bb232771",
   "metadata": {},
   "outputs": [],
   "source": [
    "from sklearn.dummy import DummyRegressor\n",
    "from sklearn.metrics import mean_squared_error\n",
    "from math import sqrt"
   ]
  },
  {
   "cell_type": "code",
   "execution_count": null,
   "id": "e9bc3835",
   "metadata": {},
   "outputs": [],
   "source": [
    "def mape(y_true, y_pred):\n",
    "    return np.mean(np.abs((y_true - y_pred) / y_true)) * 100"
   ]
  },
  {
   "cell_type": "code",
   "execution_count": null,
   "id": "24256cc0",
   "metadata": {},
   "outputs": [],
   "source": [
    "dummy = DummyRegressor(strategy=\"mean\")\n",
    "dummy.fit(X_train_p, y_train)"
   ]
  },
  {
   "cell_type": "markdown",
   "id": "2998e6d5",
   "metadata": {},
   "source": [
    "### Dummy"
   ]
  },
  {
   "cell_type": "code",
   "execution_count": null,
   "id": "5aa5a195",
   "metadata": {},
   "outputs": [],
   "source": [
    "y_pred_train = dummy.predict(X_train_p)\n",
    "\n",
    "mse_train = mean_squared_error(y_train, y_pred_train)\n",
    "rmse_train = sqrt(mse_train)\n",
    "mape_train = mape(y_train, y_pred_train)\n",
    "\n",
    "print(\"MSE:\", mse_train)\n",
    "print(\"RMSE:\", rmse_train)\n",
    "print(\"MAPE:\", mape_train)"
   ]
  },
  {
   "cell_type": "code",
   "execution_count": null,
   "id": "89de172b",
   "metadata": {},
   "outputs": [],
   "source": [
    "y_pred_test = dummy.predict(X_test_p)\n",
    "\n",
    "mse_test = mean_squared_error(y_test, y_pred_test)\n",
    "rmse_test = sqrt(mse_test)\n",
    "mape_test = mape(y_test, y_pred_test)\n",
    "\n",
    "print(\"MSE:\", mse_test)\n",
    "print(\"RMSE:\", rmse_test)\n",
    "print(\"MAPE:\", mape_test)"
   ]
  },
  {
   "cell_type": "code",
   "execution_count": null,
   "id": "3b4f48f0",
   "metadata": {},
   "outputs": [],
   "source": [
    "from sklearn.svm import SVR\n",
    "from sklearn.neural_network import MLPRegressor\n",
    "from sklearn.ensemble import GradientBoostingRegressor, RandomForestRegressor\n",
    "from sklearn.linear_model import LinearRegression"
   ]
  },
  {
   "cell_type": "markdown",
   "id": "ae76ae8b",
   "metadata": {},
   "source": [
    "### SVR"
   ]
  },
  {
   "cell_type": "code",
   "execution_count": null,
   "id": "c1bc67e0",
   "metadata": {},
   "outputs": [],
   "source": [
    "svr = SVR()\n",
    "svr.fit(X_train_p, y_train)\n",
    "y_pred_train = svr.predict(X_train_p)\n",
    "\n",
    "mse_train = mean_squared_error(y_train, y_pred_train)\n",
    "rmse_train = sqrt(mse_train)\n",
    "mape_train = mape(y_train, y_pred_train)\n",
    "\n",
    "print(\"MSE:\", mse_train)\n",
    "print(\"RMSE:\", rmse_train)\n",
    "print(\"MAPE:\", mape_train)"
   ]
  },
  {
   "cell_type": "code",
   "execution_count": null,
   "id": "a2b59c9a",
   "metadata": {},
   "outputs": [],
   "source": [
    "y_pred_test = svr.predict(X_test_p)\n",
    "\n",
    "mse_test = mean_squared_error(y_test, y_pred_test)\n",
    "rmse_test = sqrt(mse_test)\n",
    "mape_test = mape(y_test, y_pred_test)\n",
    "\n",
    "print(\"MSE:\", mse_test)\n",
    "print(\"RMSE:\", rmse_test)\n",
    "print(\"MAPE:\", mape_test)"
   ]
  },
  {
   "cell_type": "markdown",
   "id": "54d7bcff",
   "metadata": {},
   "source": [
    "### MLP"
   ]
  },
  {
   "cell_type": "code",
   "execution_count": null,
   "id": "58ac8869",
   "metadata": {},
   "outputs": [],
   "source": [
    "mlp = MLPRegressor(hidden_layer_sizes=(100, 50), max_iter=1000, random_state=42)\n",
    "mlp.fit(X_train_p, y_train)\n",
    "y_pred_train = mlp.predict(X_train_p)\n",
    "\n",
    "mse_train = mean_squared_error(y_train, y_pred_train)\n",
    "rmse_train = sqrt(mse_train)\n",
    "mape_train = mape(y_train, y_pred_train)\n",
    "\n",
    "print(\"MSE:\", mse_train)\n",
    "print(\"RMSE:\", rmse_train)\n",
    "print(\"MAPE:\", mape_train)"
   ]
  },
  {
   "cell_type": "code",
   "execution_count": null,
   "id": "05c4d5af",
   "metadata": {},
   "outputs": [],
   "source": [
    "y_pred_test = mlp.predict(X_test_p)\n",
    "\n",
    "mse_test = mean_squared_error(y_test, y_pred_test)\n",
    "rmse_test = sqrt(mse_test)\n",
    "mape_test = mape(y_test, y_pred_test)\n",
    "\n",
    "print(\"MSE:\", mse_test)\n",
    "print(\"RMSE:\", rmse_test)\n",
    "print(\"MAPE:\", mape_test)"
   ]
  },
  {
   "cell_type": "markdown",
   "id": "fdfc22b0",
   "metadata": {},
   "source": [
    "### GB"
   ]
  },
  {
   "cell_type": "code",
   "execution_count": null,
   "id": "458ffd1c",
   "metadata": {},
   "outputs": [],
   "source": [
    "gb = GradientBoostingRegressor(random_state=42)\n",
    "gb.fit(X_train_p, y_train)\n",
    "y_pred_train = gb.predict(X_train_p)\n",
    "\n",
    "mse_train = mean_squared_error(y_train, y_pred_train)\n",
    "rmse_train = sqrt(mse_train)\n",
    "mape_train = mape(y_train, y_pred_train)\n",
    "\n",
    "print(\"MSE:\", mse_train)\n",
    "print(\"RMSE:\", rmse_train)\n",
    "print(\"MAPE:\", mape_train)"
   ]
  },
  {
   "cell_type": "code",
   "execution_count": null,
   "id": "8721657f",
   "metadata": {},
   "outputs": [],
   "source": [
    "y_pred_test = gb.predict(X_test_p)\n",
    "\n",
    "mse_test = mean_squared_error(y_test, y_pred_test)\n",
    "rmse_test = sqrt(mse_test)\n",
    "mape_test = mape(y_test, y_pred_test)\n",
    "\n",
    "print(\"MSE:\", mse_test)\n",
    "print(\"RMSE:\", rmse_test)\n",
    "print(\"MAPE:\", mape_test)"
   ]
  },
  {
   "cell_type": "markdown",
   "id": "c349ab28",
   "metadata": {},
   "source": [
    "### Linear regresion"
   ]
  },
  {
   "cell_type": "code",
   "execution_count": null,
   "id": "1d15dab5",
   "metadata": {},
   "outputs": [],
   "source": [
    "lr = LinearRegression()\n",
    "lr.fit(X_train_p, y_train)\n",
    "y_pred_train = lr.predict(X_train_p)\n",
    "\n",
    "mse_train = mean_squared_error(y_train, y_pred_train)\n",
    "rmse_train = sqrt(mse_train)\n",
    "mape_train = mape(y_train, y_pred_train)\n",
    "\n",
    "print(\"MSE:\", mse_train)\n",
    "print(\"RMSE:\", rmse_train)\n",
    "print(\"MAPE:\", mape_train)"
   ]
  },
  {
   "cell_type": "code",
   "execution_count": null,
   "id": "44f201fb",
   "metadata": {},
   "outputs": [],
   "source": [
    "y_pred_test = lr.predict(X_test_p)\n",
    "\n",
    "mse_test = mean_squared_error(y_test, y_pred_test)\n",
    "rmse_test = sqrt(mse_test)\n",
    "mape_test = mape(y_test, y_pred_test)\n",
    "\n",
    "print(\"MSE:\", mse_test)\n",
    "print(\"RMSE:\", rmse_test)\n",
    "print(\"MAPE:\", mape_test)"
   ]
  },
  {
   "cell_type": "markdown",
   "id": "9b52b0b5",
   "metadata": {},
   "source": [
    "### Random Forest"
   ]
  },
  {
   "cell_type": "code",
   "execution_count": null,
   "id": "bd985aa0",
   "metadata": {},
   "outputs": [],
   "source": [
    "rf = RandomForestRegressor(random_state=42)\n",
    "rf.fit(X_train_p, y_train)\n",
    "y_pred_train = rf.predict(X_train_p)\n",
    "\n",
    "mse_train = mean_squared_error(y_train, y_pred_train)\n",
    "rmse_train = sqrt(mse_train)\n",
    "mape_train = mape(y_train, y_pred_train)\n",
    "\n",
    "print(\"MSE:\", mse_train)\n",
    "print(\"RMSE:\", rmse_train)\n",
    "print(\"MAPE:\", mape_train)"
   ]
  },
  {
   "cell_type": "code",
   "execution_count": null,
   "id": "6836bbe6",
   "metadata": {},
   "outputs": [],
   "source": [
    "y_pred_test = rf.predict(X_test_p)\n",
    "\n",
    "mse_test = mean_squared_error(y_test, y_pred_test)\n",
    "rmse_test = sqrt(mse_test)\n",
    "mape_test = mape(y_test, y_pred_test)\n",
    "\n",
    "print(\"MSE:\", mse_test)\n",
    "print(\"RMSE:\", rmse_test)\n",
    "print(\"MAPE:\", mape_test)"
   ]
  },
  {
   "cell_type": "code",
   "execution_count": null,
   "id": "38ed4bc7",
   "metadata": {},
   "outputs": [],
   "source": []
  }
 ],
 "metadata": {
  "kernelspec": {
   "display_name": "master_ML",
   "language": "python",
   "name": "python3"
  },
  "language_info": {
   "codemirror_mode": {
    "name": "ipython",
    "version": 3
   },
   "file_extension": ".py",
   "mimetype": "text/x-python",
   "name": "python",
   "nbconvert_exporter": "python",
   "pygments_lexer": "ipython3",
   "version": "3.10.15"
  }
 },
 "nbformat": 4,
 "nbformat_minor": 5
}
