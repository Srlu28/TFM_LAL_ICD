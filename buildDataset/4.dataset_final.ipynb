{
 "cells": [
  {
   "cell_type": "code",
   "execution_count": 1,
   "id": "45eaa8ef",
   "metadata": {},
   "outputs": [],
   "source": [
    "import pandas as pd"
   ]
  },
  {
   "cell_type": "code",
   "execution_count": 2,
   "id": "6e852324",
   "metadata": {},
   "outputs": [],
   "source": [
    "df_merged_v2 = pd.read_csv(\"../datasets/dataframe_preFifa.csv\")"
   ]
  },
  {
   "cell_type": "code",
   "execution_count": 6,
   "id": "ea4d423b",
   "metadata": {},
   "outputs": [],
   "source": [
    "df_fifa = pd.read_csv(\"../datasets/df_fifa_noGK.csv\")"
   ]
  },
  {
   "cell_type": "code",
   "execution_count": 7,
   "id": "ddd3a7eb",
   "metadata": {},
   "outputs": [],
   "source": [
    "def name_tokens_in_full_name(name_short, name_full):\n",
    "    tokens_short = name_short.lower().split()\n",
    "    tokens_full = name_full.lower().split()\n",
    "    return all(token in tokens_full for token in tokens_short)"
   ]
  },
  {
   "cell_type": "code",
   "execution_count": 8,
   "id": "d98adb63",
   "metadata": {},
   "outputs": [],
   "source": [
    "short_names = set(df_merged_v2[\"player\"])"
   ]
  },
  {
   "cell_type": "code",
   "execution_count": 10,
   "id": "f5921386",
   "metadata": {},
   "outputs": [],
   "source": [
    "def find_short(name_full,short_names):\n",
    "    for ns in short_names:\n",
    "        if name_tokens_in_full_name(ns, name_full):\n",
    "            return ns\n",
    "    return None"
   ]
  },
  {
   "cell_type": "code",
   "execution_count": 11,
   "id": "d4bff998",
   "metadata": {},
   "outputs": [],
   "source": [
    "df_fifa['matched_short_name'] = df_fifa['long_name'].apply(lambda x: find_short(x, short_names))\n",
    "df_fifa_noGK = df_fifa[df_fifa[\"player_positions\"] != \"GK\"]\n",
    "final_df = df_fifa.dropna(subset=[\"matched_short_name\"])"
   ]
  },
  {
   "cell_type": "code",
   "execution_count": 12,
   "id": "ab1f9354",
   "metadata": {},
   "outputs": [],
   "source": [
    "final_df = pd.merge(df_merged_v2, final_df, how='left', left_on=['player', 'season_x'], right_on = ['matched_short_name','season'])"
   ]
  },
  {
   "cell_type": "code",
   "execution_count": 13,
   "id": "f5051141",
   "metadata": {},
   "outputs": [],
   "source": [
    "final_df.to_csv(\"../datasets/final_df.csv\")"
   ]
  },
  {
   "cell_type": "code",
   "execution_count": null,
   "id": "a3b694f6",
   "metadata": {},
   "outputs": [],
   "source": []
  }
 ],
 "metadata": {
  "kernelspec": {
   "display_name": "master_ML",
   "language": "python",
   "name": "python3"
  },
  "language_info": {
   "codemirror_mode": {
    "name": "ipython",
    "version": 3
   },
   "file_extension": ".py",
   "mimetype": "text/x-python",
   "name": "python",
   "nbconvert_exporter": "python",
   "pygments_lexer": "ipython3",
   "version": "3.10.15"
  }
 },
 "nbformat": 4,
 "nbformat_minor": 5
}
